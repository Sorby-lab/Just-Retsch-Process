{
 "cells": [
  {
   "cell_type": "code",
   "execution_count": 30,
   "metadata": {},
   "outputs": [],
   "source": [
    "import pandas as pd\n",
    "from matplotlib import pyplot as plt\n"
   ]
  },
  {
   "cell_type": "code",
   "execution_count": 40,
   "metadata": {},
   "outputs": [],
   "source": [
    "#ensure all files are saved as .csv\n",
    "#import csv file, change header number to get column headings as first row, for Retsch output = 24\n",
    "s01=pd.read_csv('CB_BL_POR_01.csv', header=26)\n",
    "#set variable for data range\n",
    "x1 = s01['Size class']"
   ]
  },
  {
   "cell_type": "code",
   "execution_count": 32,
   "metadata": {},
   "outputs": [],
   "source": [
    "#repeat for all files in folder for this figure\n",
    "s02=pd.read_csv('CB_BL_POR_02.csv', header=26)\n",
    "s08=pd.read_csv('CB_BL_POR_08.csv', header=26)\n",
    "s10=pd.read_csv('CB_BL_POR_10.csv', header=26)\n",
    "s11=pd.read_csv('CB_BL_POR_11.csv', header=26)\n",
    "s12=pd.read_csv('CB_BL_POR_12.csv', header=26)\n",
    "s13=pd.read_csv('CB_BL_POR_13.csv', header=26)\n",
    "s14=pd.read_csv('CB_BL_POR_14.csv', header=26)\n",
    "s15=pd.read_csv('CB_BL_POR_15.csv', header=26)\n",
    "s16=pd.read_csv('CB_BL_POR_16.csv', header=26)\n",
    "s17=pd.read_csv('CB_BL_POR_17.csv', header=26)\n",
    "s18=pd.read_csv('CB_BL_POR_18.csv', header=26)\n",
    "s19=pd.read_csv('CB_BL_POR_19.csv', header=26)\n",
    "s20=pd.read_csv('CB_BL_POR_20.csv', header=26)"
   ]
  },
  {
   "cell_type": "code",
   "execution_count": 43,
   "metadata": {},
   "outputs": [
    {
     "data": {
      "text/plain": [
       "[<matplotlib.lines.Line2D at 0x7f9b82ba0fd0>,\n",
       " <matplotlib.lines.Line2D at 0x7f9b82880e10>]"
      ]
     },
     "execution_count": 43,
     "metadata": {},
     "output_type": "execute_result"
    },
    {
     "data": {
      "image/png": "[encoded data removed]",
      "text/plain": [
       "<Figure size 432x288 with 1 Axes>"
      ]
     },
     "metadata": {
      "needs_background": "light"
     },
     "output_type": "display_data"
    }
   ],
   "source": [
    "v1= s02['p3 [%]']\n",
    "v2=s03['p3 [%]']\n",
    "plt.plot(x1, v1, x1, v2)\n"
   ]
  },
  {
   "cell_type": "code",
   "execution_count": null,
   "metadata": {},
   "outputs": [],
   "source": []
  },
  {
   "cell_type": "code",
   "execution_count": null,
   "metadata": {},
   "outputs": [],
   "source": []
  }
 ],
 "metadata": {
  "kernelspec": {
   "display_name": "Python 3",
   "language": "python",
   "name": "python3"
  },
  "language_info": {
   "codemirror_mode": {
    "name": "ipython",
    "version": 3
   },
   "file_extension": ".py",
   "mimetype": "text/x-python",
   "name": "python",
   "nbconvert_exporter": "python",
   "pygments_lexer": "ipython3",
   "version": "3.7.6"
  }
 },
 "nbformat": 4,
 "nbformat_minor": 4
}
